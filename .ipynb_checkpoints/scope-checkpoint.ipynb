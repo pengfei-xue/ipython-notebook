{
 "metadata": {
  "name": "",
  "signature": "sha256:b1ab074f2f4a83a88da83347783932d5dffde7bbe8485491a01cb9a87adb957d"
 },
 "nbformat": 3,
 "nbformat_minor": 0,
 "worksheets": [
  {
   "cells": [
    {
     "cell_type": "markdown",
     "metadata": {},
     "source": [
      "## when decide name's scope"
     ]
    },
    {
     "cell_type": "markdown",
     "metadata": {},
     "source": [
      "names in Python spring into existence when\n",
      "they are first assigned values, and they must be assigned before they are used. Because\n",
      "names are not declared ahead of time, Python uses the location of the assignment of a\n",
      "name to associate it with (i.e., bind it to) a particular namespace. In other words, * the\n",
      "place where you assign a name in your source code determines the namespace it will\n",
      "live in *, and hence its scope of visibility."
     ]
    },
    {
     "cell_type": "markdown",
     "metadata": {},
     "source": [
      "In all cases, the scope of a variable (where it can be used) is always determined by where\n",
      "it is assigned in your source code and has nothing to do with which functions call which."
     ]
    },
    {
     "cell_type": "code",
     "collapsed": false,
     "input": [
      "X = 99\n",
      "\n",
      "def func():\n",
      "    X = 10\n",
      "    print 'inside func()', X\n",
      "    \n",
      "func()\n",
      "print 'outside func()', X"
     ],
     "language": "python",
     "metadata": {},
     "outputs": [
      {
       "output_type": "stream",
       "stream": "stdout",
       "text": [
        "inside func() 10\n",
        "outside func() 99\n"
       ]
      }
     ],
     "prompt_number": 2
    },
    {
     "cell_type": "markdown",
     "metadata": {},
     "source": [
      "## three types of scope"
     ]
    },
    {
     "cell_type": "markdown",
     "metadata": {},
     "source": [
      "\u2022 If a variable is assigned inside a def , it is local to that function.\n",
      "\n",
      "\u2022 If a variable is assigned in an enclosing def , it is nonlocal to nested functions.\n",
      "\n",
      "\u2022 If a variable is assigned outside all def s, it is global to the entire file."
     ]
    },
    {
     "cell_type": "markdown",
     "metadata": {},
     "source": [
      "## in-place changes to objects do not classify names as locals; only actual name assignments do."
     ]
    },
    {
     "cell_type": "code",
     "collapsed": false,
     "input": [
      "X = 'global'\n",
      "\n",
      "def func():\n",
      "    print 'in func'\n",
      "    \n",
      "    print X\n",
      "    \n",
      "    X = 'local' ## assign X here, the X's scope now is the local, so the print statement 'print X' will raise Exception\n",
      "    print X\n",
      "    \n",
      "    print 'func end'\n",
      "    \n",
      "print X\n",
      "func()"
     ],
     "language": "python",
     "metadata": {},
     "outputs": [
      {
       "output_type": "stream",
       "stream": "stdout",
       "text": [
        "global\n",
        "in func\n"
       ]
      },
      {
       "ename": "UnboundLocalError",
       "evalue": "local variable 'X' referenced before assignment",
       "output_type": "pyerr",
       "traceback": [
        "\u001b[1;31m---------------------------------------------------------------------------\u001b[0m\n\u001b[1;31mUnboundLocalError\u001b[0m                         Traceback (most recent call last)",
        "\u001b[1;32m<ipython-input-14-0a8ea4b8174e>\u001b[0m in \u001b[0;36m<module>\u001b[1;34m()\u001b[0m\n\u001b[0;32m     12\u001b[0m \u001b[1;33m\u001b[0m\u001b[0m\n\u001b[0;32m     13\u001b[0m \u001b[1;32mprint\u001b[0m \u001b[0mX\u001b[0m\u001b[1;33m\u001b[0m\u001b[0m\n\u001b[1;32m---> 14\u001b[1;33m \u001b[0mfunc\u001b[0m\u001b[1;33m(\u001b[0m\u001b[1;33m)\u001b[0m\u001b[1;33m\u001b[0m\u001b[0m\n\u001b[0m",
        "\u001b[1;32m<ipython-input-14-0a8ea4b8174e>\u001b[0m in \u001b[0;36mfunc\u001b[1;34m()\u001b[0m\n\u001b[0;32m      4\u001b[0m     \u001b[1;32mprint\u001b[0m \u001b[1;34m'in func'\u001b[0m\u001b[1;33m\u001b[0m\u001b[0m\n\u001b[0;32m      5\u001b[0m \u001b[1;33m\u001b[0m\u001b[0m\n\u001b[1;32m----> 6\u001b[1;33m     \u001b[1;32mprint\u001b[0m \u001b[0mX\u001b[0m\u001b[1;33m\u001b[0m\u001b[0m\n\u001b[0m\u001b[0;32m      7\u001b[0m \u001b[1;33m\u001b[0m\u001b[0m\n\u001b[0;32m      8\u001b[0m     \u001b[0mX\u001b[0m \u001b[1;33m=\u001b[0m \u001b[1;34m'local'\u001b[0m \u001b[1;31m## assign X here, the X's scope now is the local, so the print statement 'print X' will raise Exception\u001b[0m\u001b[1;33m\u001b[0m\u001b[0m\n",
        "\u001b[1;31mUnboundLocalError\u001b[0m: local variable 'X' referenced before assignment"
       ]
      }
     ],
     "prompt_number": 14
    },
    {
     "cell_type": "code",
     "collapsed": false,
     "input": [
      "X = 'global'\n",
      "\n",
      "def func():\n",
      "    print 'in func'\n",
      "    \n",
      "    print X\n",
      "    \n",
      "    print 'func end'\n",
      "    \n",
      "print X\n",
      "func()"
     ],
     "language": "python",
     "metadata": {},
     "outputs": [
      {
       "output_type": "stream",
       "stream": "stdout",
       "text": [
        "global\n",
        "in func\n",
        "global\n",
        "func end\n"
       ]
      }
     ],
     "prompt_number": 13
    },
    {
     "cell_type": "code",
     "collapsed": false,
     "input": [
      "X = ['global']\n",
      "\n",
      "def func():\n",
      "    print 'in func'\n",
      "    \n",
      "    print X\n",
      "    \n",
      "    X.append('local')\n",
      "    print X\n",
      "    \n",
      "    print 'func end'\n",
      "    \n",
      "print X\n",
      "func()\n",
      "print X"
     ],
     "language": "python",
     "metadata": {},
     "outputs": [
      {
       "output_type": "stream",
       "stream": "stdout",
       "text": [
        "['global']\n",
        "in func\n",
        "['global']\n",
        "['global', 'local']\n",
        "func end\n",
        "['global', 'local']\n"
       ]
      }
     ],
     "prompt_number": 7
    },
    {
     "cell_type": "markdown",
     "metadata": {},
     "source": [
      "## Name Resolution: The LEGB Rule\n",
      "\n",
      "\u2022 Name assignments create or change local names by default.\n",
      "\n",
      "\u2022 Name references search at most four scopes: local, then enclosing functions (if any),\n",
      "then global, then built-in.\n",
      "\n",
      "\u2022 Names declared in global and nonlocal statements map assigned names to en-\n",
      "closing module and function scopes, respectively"
     ]
    },
    {
     "cell_type": "markdown",
     "metadata": {},
     "source": [
      "## exception handler scope\n",
      "\n",
      "Exception variables\u2014the variable X used to reference the raised exception in a\n",
      "try statement handler clause such as except E as X . Because they might defer\n",
      "garbage collection\u2019s memory recovery, \n",
      "\n",
      "in 3.X, such variables are local to that except block, and in fact are removed when the block is exited (even if you\u2019ve used\n",
      "it earlier in your code!). \n",
      "\n",
      "In 2.X, these variables live on after the try statement. See Chapter 34 for additional information."
     ]
    },
    {
     "cell_type": "code",
     "collapsed": false,
     "input": [
      "try:\n",
      "    raise Exception('heel')\n",
      "except Exception as e:\n",
      "    print e\n",
      "    \n",
      "print e ## in python2.x, e can be seen out of the exception handler"
     ],
     "language": "python",
     "metadata": {},
     "outputs": [
      {
       "output_type": "stream",
       "stream": "stdout",
       "text": [
        "heel\n",
        "heel\n"
       ]
      }
     ],
     "prompt_number": 10
    },
    {
     "cell_type": "markdown",
     "metadata": {},
     "source": [
      "## Comprehension variables\n",
      "\n",
      "In 2.X, they are local to generator expressions and set and dictionary compressions, \n",
      "but not to list comprehensions that map their names to the scope outside the expression.\n",
      "\n",
      "In 3.X, such variables are local to the expression itself in all comprehension forms: \n",
      "generator, list, set, and dictionary."
     ]
    },
    {
     "cell_type": "code",
     "collapsed": false,
     "input": [
      "[x for x in range(10)] # gotches\n",
      "x"
     ],
     "language": "python",
     "metadata": {},
     "outputs": [
      {
       "metadata": {},
       "output_type": "pyout",
       "prompt_number": 12,
       "text": [
        "9"
       ]
      }
     ],
     "prompt_number": 12
    },
    {
     "cell_type": "code",
     "collapsed": false,
     "input": [],
     "language": "python",
     "metadata": {},
     "outputs": []
    }
   ],
   "metadata": {}
  }
 ]
}
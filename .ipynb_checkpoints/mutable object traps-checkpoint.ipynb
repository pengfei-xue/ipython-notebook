{
 "metadata": {
  "name": "",
  "signature": "sha256:260e06bc0914cb1cfb796d339068b3555cc48bdf2502a26ba4195884a50f67fe"
 },
 "nbformat": 3,
 "nbformat_minor": 0,
 "worksheets": [
  {
   "cells": [
    {
     "cell_type": "markdown",
     "metadata": {},
     "source": [
      "### python mutable \u5bf9\u8c61 \u4fee\u6539\u9677\u9631"
     ]
    },
    {
     "cell_type": "code",
     "collapsed": false,
     "input": [
      "class Test(object):\n",
      "    def __init__(self):\n",
      "        self._list = range(10)\n",
      "        \n",
      "    def modify(self):\n",
      "        _list = self._list\n",
      "        _list.append('12') # \u4f1a\u5f71\u54cd\u5230self._list\n",
      "        print self._list"
     ],
     "language": "python",
     "metadata": {},
     "outputs": [],
     "prompt_number": 1
    },
    {
     "cell_type": "code",
     "collapsed": false,
     "input": [
      "T = Test()\n",
      "T.modify()"
     ],
     "language": "python",
     "metadata": {},
     "outputs": [
      {
       "output_type": "stream",
       "stream": "stdout",
       "text": [
        "[0, 1, 2, 3, 4, 5, 6, 7, 8, 9, '12']\n"
       ]
      }
     ],
     "prompt_number": 2
    },
    {
     "cell_type": "code",
     "collapsed": false,
     "input": [
      "class Test(object):\n",
      "    def __init__(self):\n",
      "        self._list = range(10)\n",
      "        \n",
      "    def modify(self):\n",
      "        _list = self._list[:]\n",
      "        _list.append('12')\n",
      "        print self._list"
     ],
     "language": "python",
     "metadata": {},
     "outputs": [],
     "prompt_number": 3
    },
    {
     "cell_type": "code",
     "collapsed": false,
     "input": [
      "T = Test()\n",
      "T.modify()"
     ],
     "language": "python",
     "metadata": {},
     "outputs": [
      {
       "output_type": "stream",
       "stream": "stdout",
       "text": [
        "[0, 1, 2, 3, 4, 5, 6, 7, 8, 9]\n"
       ]
      }
     ],
     "prompt_number": 4
    },
    {
     "cell_type": "code",
     "collapsed": false,
     "input": [],
     "language": "python",
     "metadata": {},
     "outputs": []
    }
   ],
   "metadata": {}
  }
 ]
}
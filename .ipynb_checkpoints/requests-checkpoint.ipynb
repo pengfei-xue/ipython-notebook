{
 "metadata": {
  "name": "",
  "signature": "sha256:f4c8b8d56a32ce6dfcd9da8cb33f5c29517c108ce2e70a4bd2295c0fbfb6cfff"
 },
 "nbformat": 3,
 "nbformat_minor": 0,
 "worksheets": [
  {
   "cells": [
    {
     "cell_type": "code",
     "collapsed": false,
     "input": [
      "import _socket\n",
      "import socket\n",
      "\n",
      "import requests"
     ],
     "language": "python",
     "metadata": {},
     "outputs": [],
     "prompt_number": 1
    },
    {
     "cell_type": "code",
     "collapsed": false,
     "input": [
      "import socket\n",
      "prv_getaddrinfo = socket.getaddrinfo\n",
      "dns_cache = {}  # or a weakref.WeakValueDictionary()\n",
      "def new_getaddrinfo(*args):\n",
      "    try:\n",
      "        print 'got cached'\n",
      "        return dns_cache[args]\n",
      "    except KeyError:\n",
      "        res = prv_getaddrinfo(*args)\n",
      "        dns_cache[args] = res\n",
      "        print 'here'\n",
      "        return res\n",
      "socket.getaddrinfo = new_getaddrinfo"
     ],
     "language": "python",
     "metadata": {},
     "outputs": [],
     "prompt_number": 2
    },
    {
     "cell_type": "code",
     "collapsed": false,
     "input": [
      "requests.get('http://passport.bj.oupeng.com')"
     ],
     "language": "python",
     "metadata": {},
     "outputs": [
      {
       "output_type": "stream",
       "stream": "stdout",
       "text": [
        "got cached\n",
        "here"
       ]
      },
      {
       "output_type": "stream",
       "stream": "stdout",
       "text": [
        "\n"
       ]
      },
      {
       "metadata": {},
       "output_type": "pyout",
       "prompt_number": 3,
       "text": [
        "<Response [404]>"
       ]
      }
     ],
     "prompt_number": 3
    },
    {
     "cell_type": "code",
     "collapsed": false,
     "input": [
      "requests.get('http://passport.bj.oupeng.com')"
     ],
     "language": "python",
     "metadata": {},
     "outputs": [
      {
       "output_type": "stream",
       "stream": "stdout",
       "text": [
        "got cached\n"
       ]
      },
      {
       "metadata": {},
       "output_type": "pyout",
       "prompt_number": 4,
       "text": [
        "<Response [404]>"
       ]
      }
     ],
     "prompt_number": 4
    },
    {
     "cell_type": "code",
     "collapsed": false,
     "input": [],
     "language": "python",
     "metadata": {},
     "outputs": []
    }
   ],
   "metadata": {}
  }
 ]
}
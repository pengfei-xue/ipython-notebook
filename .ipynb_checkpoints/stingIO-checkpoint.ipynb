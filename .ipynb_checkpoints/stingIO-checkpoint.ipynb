{
 "metadata": {
  "name": "",
  "signature": "sha256:cb9fb9fe070707c884d1061a98d6d7917cf18fa778cf4809727ea3fe98f1b3f9"
 },
 "nbformat": 3,
 "nbformat_minor": 0,
 "worksheets": [
  {
   "cells": [
    {
     "cell_type": "code",
     "collapsed": false,
     "input": [
      "import cStringIO\n",
      "\n",
      "output = cStringIO.StringIO()\n",
      "output.write('First line.\\n')\n",
      "print >>output, 'Second line.'\n",
      "\n",
      "# Retrieve file contents -- this will be\n",
      "# 'First line.\\nSecond line.\\n'\n",
      "contents = output.getvalue()\n",
      "\n",
      "# Close object and discard memory buffer --\n",
      "# .getvalue() will now raise an exception.\n",
      "output.close()"
     ],
     "language": "python",
     "metadata": {},
     "outputs": [],
     "prompt_number": 1
    },
    {
     "cell_type": "code",
     "collapsed": false,
     "input": [
      "contents"
     ],
     "language": "python",
     "metadata": {},
     "outputs": [
      {
       "metadata": {},
       "output_type": "pyout",
       "prompt_number": 2,
       "text": [
        "'First line.\\nSecond line.\\n'"
       ]
      }
     ],
     "prompt_number": 2
    },
    {
     "cell_type": "code",
     "collapsed": false,
     "input": [],
     "language": "python",
     "metadata": {},
     "outputs": []
    }
   ],
   "metadata": {}
  }
 ]
}
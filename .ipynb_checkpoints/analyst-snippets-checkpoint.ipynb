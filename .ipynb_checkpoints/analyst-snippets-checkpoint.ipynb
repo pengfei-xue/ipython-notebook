{
 "metadata": {
  "name": "",
  "signature": "sha256:e6833e05c614cadfa8507a8cc8d280b62491a780d0aa252db212e9809309a81d"
 },
 "nbformat": 3,
 "nbformat_minor": 0,
 "worksheets": [
  {
   "cells": [
    {
     "cell_type": "code",
     "collapsed": false,
     "input": [
      "import pandas as pd\n",
      "from pandas import DataFrame"
     ],
     "language": "python",
     "metadata": {},
     "outputs": [],
     "prompt_number": 1
    },
    {
     "cell_type": "code",
     "collapsed": false,
     "input": [
      "data = [{\n",
      "\t\"branding\" : {\n",
      "\t\t\"oupeng_7_8u7\" : 3,\n",
      "\t\t\"oupeng_7_8u10\" : 12\n",
      "\t},\n",
      "\t\"counts\" : 15,\n",
      "\t\"version\" : {\n",
      "\t\t\"7-8-75589\" : 1,\n",
      "\t\t\"7-8\" : 2,\n",
      "\t\t\"7-8-71824\" : 3,\n",
      "\t\t\"7-8-75636\" : 9\n",
      "\t}\n",
      "}]\n"
     ],
     "language": "python",
     "metadata": {},
     "outputs": [],
     "prompt_number": 2
    },
    {
     "cell_type": "code",
     "collapsed": false,
     "input": [
      "data.append({\n",
      "\t\"branding\" : {\n",
      "\t\t\"oupeng_7_8u10\" : 4\n",
      "\t},\n",
      "\t\"counts\" : 4,\n",
      "\t\"version\" : {\n",
      "        \"7-8-75615\" : 1,\n",
      "\t\t\"7-8\" : 2,\n",
      "\t\t\"7-8-75636\" : 1\n",
      "\t}\n",
      "})\n"
     ],
     "language": "python",
     "metadata": {},
     "outputs": [],
     "prompt_number": 3
    },
    {
     "cell_type": "code",
     "collapsed": false,
     "input": [
      "data = [{'first_launch_time': datetime.datetime(2014, 5, 7, 0, 48, 39), 'uid': 'dd65c33f609e43db8f054bdd14a648e6', 'campaign': '', 'branding': 'oupengmax_3_3', 'android_id': '', 'cpu_arch': 'armv7', 'platform': 'Android_4.1.1', 'version': '0.1.0', 'uninstall_at': datetime.datetime(2014, 5, 7, 0, 49, 40), 'imsi': '', 'product': 'oupengmax', 'screen_width': '0', 'first_install_time': datetime.datetime(2014, 5, 7, 0, 47, 56), 'phone': 'MI 2A', 'reason': '', 'imei': '', 'manufacturer': 'Xiaomi', 'mac': '', 'channel_id': 'Default_1', 'model': 'MI 2A', 'cellid': '{}', 'screen_height': '0'}, {'first_launch_time': datetime.datetime(2014, 5, 6, 15, 31, 18), 'uid': 'be6b9735e9e3468a90f4abc3d9b95ba4', 'campaign': '', 'branding': 'oupengmax_3_3', 'android_id': '', 'cpu_arch': 'armv7', 'platform': 'Android_4.1.2', 'version': '3.3.573', 'uninstall_at': datetime.datetime(2014, 5, 7, 2, 4, 48), 'imsi': '', 'product': 'oupengmax', 'screen_width': '0', 'first_install_time': datetime.datetime(1980, 1, 7, 0, 47, 29), 'phone': 'Coolpad 5890', 'reason': '', 'imei': '', 'manufacturer': 'Baidu', 'mac': '', 'channel_id': 'Default_11', 'model': 'Coolpad 5890', 'cellid': '{}', 'screen_height': '0'}, {'first_launch_time': datetime.datetime(2014, 5, 6, 15, 31, 18), 'uid': 'be6b9735e9e3468a90f4abc3d9b95ba4', 'campaign': '', 'branding': 'oupengmax_3_3', 'android_id': '', 'cpu_arch': 'armv7', 'platform': 'Android_4.1.2', 'version': '3.3.573', 'uninstall_at': datetime.datetime(2014, 5, 7, 2, 4, 49), 'imsi': '', 'product': 'oupengmax', 'screen_width': '0', 'first_install_time': datetime.datetime(1980, 1, 7, 0, 47, 29), 'phone': 'Coolpad 5890', 'reason': '', 'imei': '', 'manufacturer': 'Baidu', 'mac': '', 'channel_id': 'Default_11', 'model': 'Coolpad 5890', 'cellid': '{}', 'screen_height': '0'}, {'first_launch_time': datetime.datetime(2014, 5, 7, 0, 57, 14), 'uid': 'dd65c33f609e43db8f054bdd14a648e6', 'campaign': '', 'branding': 'oupengmax_3_3', 'android_id': '', 'cpu_arch': 'armv7', 'platform': 'Android_4.1.1', 'version': '0.1.0', 'uninstall_at': datetime.datetime(2014, 5, 7, 2, 7, 44), 'imsi': '', 'product': 'oupengmax', 'screen_width': '0', 'first_install_time': datetime.datetime(2014, 5, 7, 0, 56, 54), 'phone': 'MI 2A', 'reason': '', 'imei': '', 'manufacturer': 'Xiaomi', 'mac': '', 'channel_id': 'Default_1', 'model': 'MI 2A', 'cellid': '{}', 'screen_height': '0'}, {'first_launch_time': datetime.datetime(2014, 5, 6, 15, 31, 18), 'uid': 'be6b9735e9e3468a90f4abc3d9b95ba4', 'campaign': '', 'branding': 'oupengmax_3_3', 'android_id': '', 'cpu_arch': 'armv7', 'platform': 'Android_4.1.2', 'version': '3.3.573', 'uninstall_at': datetime.datetime(2014, 5, 7, 2, 16, 24), 'imsi': '', 'product': 'oupengmax', 'screen_width': '0', 'first_install_time': datetime.datetime(1980, 1, 7, 0, 47, 29), 'phone': 'Coolpad 5890', 'reason': '', 'imei': '', 'manufacturer': 'Baidu', 'mac': '', 'channel_id': 'Default_11', 'model': 'Coolpad 5890', 'cellid': '{}', 'screen_height': '0'}, {'first_launch_time': datetime.datetime(2014, 5, 7, 2, 8, 35), 'uid': 'dd65c33f609e43db8f054bdd14a648e6', 'campaign': '', 'branding': 'oupengmax_3_3', 'android_id': '', 'cpu_arch': 'armv7', 'platform': 'Android_4.1.1', 'version': '0.1.0', 'uninstall_at': datetime.datetime(2014, 5, 7, 2, 17, 59), 'imsi': '', 'product': 'oupengmax', 'screen_width': '0', 'first_install_time': datetime.datetime(2014, 5, 7, 2, 8, 22), 'phone': 'MI 2A', 'reason': '', 'imei': '', 'manufacturer': 'Xiaomi', 'mac': '', 'channel_id': 'Default_1', 'model': 'MI 2A', 'cellid': '{}', 'screen_height': '0'}, {'first_launch_time': datetime.datetime(2014, 5, 6, 2, 5, 23), 'uid': '2555524fffeb41bb8b59d80f7d5935a6', 'campaign': '', 'branding': 'oupengmax_3_3', 'android_id': '', 'cpu_arch': 'armv7', 'platform': 'Android_4.3', 'version': '3.3.573', 'uninstall_at': datetime.datetime(2014, 5, 7, 2, 45, 22), 'imsi': '', 'product': 'oupengmax', 'screen_width': '0', 'first_install_time': datetime.datetime(2014, 5, 6, 2, 5, 8), 'phone': 'Galaxy Nexus', 'reason': '', 'imei': '', 'manufacturer': 'samsung', 'mac': '', 'channel_id': 'Default_11', 'model': 'Galaxy Nexus', 'cellid': '{}', 'screen_height': '0'}, {'first_launch_time': datetime.datetime(2014, 5, 6, 2, 5, 23), 'uid': '2555524fffeb41bb8b59d80f7d5935a6', 'campaign': '', 'branding': 'oupengmax_3_3', 'android_id': '', 'cpu_arch': 'armv7', 'platform': 'Android_4.3', 'version': '3.3.573', 'uninstall_at': datetime.datetime(2014, 5, 7, 3, 14, 13), 'imsi': '', 'product': 'oupengmax', 'screen_width': '0', 'first_install_time': datetime.datetime(2014, 5, 6, 2, 5, 8), 'phone': 'Galaxy Nexus', 'reason': '', 'imei': '', 'manufacturer': 'samsung', 'mac': '', 'channel_id': 'Default_11', 'model': 'Galaxy Nexus', 'cellid': '{}', 'screen_height': '0'}, {'first_launch_time': datetime.datetime(2014, 5, 7, 2, 31, 38), 'uid': 'dd65c33f609e43db8f054bdd14a648e6', 'campaign': '', 'branding': 'oupengmax_3_3', 'android_id': '', 'cpu_arch': 'armv7', 'platform': 'Android_4.1.1', 'version': '0.1.0', 'uninstall_at': datetime.datetime(2014, 5, 7, 3, 46, 7), 'imsi': '', 'product': 'oupengmax', 'screen_width': '0', 'first_install_time': datetime.datetime(2014, 5, 7, 2, 30, 39), 'phone': 'MI 2A', 'reason': '', 'imei': '', 'manufacturer': 'Xiaomi', 'mac': '', 'channel_id': 'Default_1', 'model': 'MI 2A', 'cellid': '{}', 'screen_height': '0'}, {'first_launch_time': datetime.datetime(2014, 5, 7, 4, 16, 11), 'uid': 'df042efa9483447d9313e57b32f877d1', 'campaign': 'oupenghoop-90', 'branding': 'oupenghoop_9_3u1', 'android_id': '', 'cpu_arch': 'armv7', 'platform': 'Android_4.2.1', 'version': '9.3.1.75967', 'uninstall_at': datetime.datetime(2014, 5, 7, 4, 16, 58), 'imsi': '460011020622491', 'product': 'oupeng9', 'screen_width': '1080', 'first_install_time': datetime.datetime(2014, 5, 7, 4, 14, 35), 'phone': 'M351', 'reason': '', 'imei': '862845021411413', 'manufacturer': 'Meizu', 'mac': '38:bc:1a:91:39:77', 'channel_id': 'Oupeng', 'model': 'M351', 'cellid': '{\"Cell-ID\":\"8121359\",\"Lac\":\"41067\"}', 'screen_height': '1800'}, {'first_launch_time': datetime.datetime(2014, 5, 7, 4, 19, 24), 'uid': '29efccbfdf514eb5b3bd6a525facb730', 'campaign': 'oupenghoop-90', 'branding': 'oupenghoop_9_3u1', 'android_id': '', 'cpu_arch': 'armv7', 'platform': 'Android_4.4.2', 'version': '9.3.1.75579', 'uninstall_at': datetime.datetime(2014, 5, 7, 4, 21), 'imsi': '460010820603808', 'product': 'oupeng9', 'screen_width': '1080', 'first_install_time': datetime.datetime(2014, 5, 7, 4, 19, 9), 'phone': 'Nexus 5', 'reason': '', 'imei': '358239057154082', 'manufacturer': 'LGE', 'mac': 'c4:43:8f:f8:58:c4', 'channel_id': 'Oupeng', 'model': 'Nexus 5', 'cellid': '{\"Cell-ID\":\"4340807\",\"Lac\":\"41010\"}', 'screen_height': '1776'}, {'first_launch_time': datetime.datetime(2014, 5, 7, 4, 22), 'uid': '29efccbfdf514eb5b3bd6a525facb730', 'campaign': 'oupenghoop-90', 'branding': 'oupenghoop_9_3u1', 'android_id': '', 'cpu_arch': 'armv7', 'platform': 'Android_4.4.2', 'version': '9.3.1.75579', 'uninstall_at': datetime.datetime(2014, 5, 7, 4, 22, 44), 'imsi': '460010820603808', 'product': 'oupeng9', 'screen_width': '1080', 'first_install_time': datetime.datetime(2014, 5, 7, 4, 21, 6), 'phone': 'Nexus 5', 'reason': '', 'imei': '358239057154082', 'manufacturer': 'LGE', 'mac': 'c4:43:8f:f8:58:c4', 'channel_id': 'Oupeng', 'model': 'Nexus 5', 'cellid': '{\"Cell-ID\":\"4340807\",\"Lac\":\"41010\"}', 'screen_height': '1776'}, {'first_launch_time': datetime.datetime(2014, 5, 6, 6, 13, 57), 'uid': 'e857c6fd6857445680ca087c7911de0f', 'campaign': 'oupenghoop-90', 'branding': 'oupenghoop_9_3u1', 'android_id': '', 'cpu_arch': 'armv7', 'platform': 'Android_4.1.2', 'version': '9.3.1.75943', 'uninstall_at': datetime.datetime(2014, 5, 7, 5, 22, 5), 'imsi': '460011081641267', 'product': 'oupeng9', 'screen_width': '720', 'first_install_time': datetime.datetime(2014, 5, 6, 6, 13, 48), 'phone': 'GT-N7100', 'reason': '', 'imei': '353769054429165', 'manufacturer': 'samsung', 'mac': '90:18:7C:BA:0A:F6', 'channel_id': 'Oupeng', 'model': 'GT-N7100', 'cellid': '{\"Cell-ID\":\"4340807\",\"Lac\":\"41010\"}', 'screen_height': '1280'}, {'first_launch_time': datetime.datetime(2014, 5, 7, 4, 35, 11), 'uid': '29efccbfdf514eb5b3bd6a525facb730', 'campaign': 'oupenghoop-90', 'branding': 'oupenghoop_9_3u1', 'android_id': '', 'cpu_arch': 'armv7', 'platform': 'Android_4.4.2', 'version': '9.3.1.75953', 'uninstall_at': datetime.datetime(2014, 5, 7, 5, 47, 16), 'imsi': '460010820603808', 'product': 'oupeng9', 'screen_width': '1080', 'first_install_time': datetime.datetime(2014, 5, 7, 4, 33, 57), 'phone': 'Nexus 5', 'reason': '', 'imei': '358239057154082', 'manufacturer': 'LGE', 'mac': 'c4:43:8f:f8:58:c4', 'channel_id': 'Oupeng', 'model': 'Nexus 5', 'cellid': '{\"Cell-ID\":\"4340807\",\"Lac\":\"41010\"}', 'screen_height': '1776'}, {'first_launch_time': datetime.datetime(2014, 5, 6, 10, 57, 39), 'uid': '115b578d95404d87bd2504506fbbe2cb', 'campaign': 'oupenghoop-90', 'branding': 'oupenghoop_9_3u1', 'android_id': '', 'cpu_arch': 'armv7', 'platform': 'Android_4.3', 'version': '9.3.1.2147483647', 'uninstall_at': datetime.datetime(2014, 5, 7, 6, 19, 10), 'imsi': '460001510846902', 'product': 'oupeng9', 'screen_width': '720', 'first_install_time': datetime.datetime(2014, 5, 6, 10, 57, 9), 'phone': 'GT-I9308', 'reason': '', 'imei': '355065052104241', 'manufacturer': 'samsung', 'mac': '90:18:7C:44:21:B3', 'channel_id': 'Oupeng', 'model': 'GT-I9308', 'cellid': '{\"Cell-ID\":\"28065\",\"Lac\":\"41019\"}', 'screen_height': '1280'}, {'first_launch_time': datetime.datetime(2014, 5, 7, 6, 20, 22), 'uid': 'dd65c33f609e43db8f054bdd14a648e6', 'campaign': '', 'branding': 'oupengmax_3_3', 'android_id': '', 'cpu_arch': 'armv7', 'platform': 'Android_4.1.1', 'version': '0.1.0', 'uninstall_at': datetime.datetime(2014, 5, 7, 6, 39, 24), 'imsi': '', 'product': 'oupengmax', 'screen_width': '0', 'first_install_time': datetime.datetime(2014, 5, 7, 6, 19, 28), 'phone': 'MI 2A', 'reason': '', 'imei': '', 'manufacturer': 'Xiaomi', 'mac': '', 'channel_id': 'Default_1', 'model': 'MI 2A', 'cellid': '{}', 'screen_height': '0'}, {'first_launch_time': datetime.datetime(2014, 5, 6, 16, 19, 34), 'uid': '5ab0d456045f4ad681874af1f1658770', 'campaign': 'oupenghoop-90', 'branding': 'oupenghoop_9_3u1', 'android_id': '', 'cpu_arch': 'armv7', 'platform': 'Android_4.0.4', 'version': '9.3.1.75943', 'uninstall_at': datetime.datetime(2014, 5, 7, 6, 43, 34), 'imsi': 'NONE', 'product': 'oupeng9', 'screen_width': '480', 'first_install_time': datetime.datetime(2014, 5, 6, 16, 19, 12), 'phone': 'MI-ONE Plus', 'reason': '', 'imei': '865030017145187', 'manufacturer': 'Xiaomi', 'mac': 'C4:6A:B7:2F:00:CC', 'channel_id': 'Oupeng', 'model': 'MI-ONE Plus', 'cellid': '{\"Cell-ID\":\"NONE\",\"Lac\":\"NONE\"}', 'screen_height': '854'}, {'first_launch_time': datetime.datetime(2014, 5, 6, 7, 9, 38), 'uid': '26161f047aa747bab04acadd49bfcb9e', 'campaign': 'oupenghoop-90', 'branding': 'oupenghoop_9_3u1', 'android_id': '', 'cpu_arch': 'armv7', 'platform': 'Android_4.0.4', 'version': '9.3.1.75943', 'uninstall_at': datetime.datetime(2014, 5, 7, 7, 45, 58), 'imsi': '460001733134006', 'product': 'oupeng9', 'screen_width': '720', 'first_install_time': datetime.datetime(2014, 5, 6, 7, 8, 57), 'phone': 'LT26i', 'reason': '', 'imei': '352900051164734', 'manufacturer': 'Sony Ericsson', 'mac': '30:39:26:03:68:b8', 'channel_id': 'Oupeng', 'model': 'LT26i', 'cellid': '{\"Cell-ID\":\"22958\",\"Lac\":\"4278\"}', 'screen_height': '1280'}, {'first_launch_time': datetime.datetime(2014, 5, 7, 6, 40, 28), 'uid': 'dd65c33f609e43db8f054bdd14a648e6', 'campaign': '', 'branding': 'oupengmax_3_3', 'android_id': '', 'cpu_arch': 'armv7', 'platform': 'Android_4.1.1', 'version': '0.1.0', 'uninstall_at': datetime.datetime(2014, 5, 7, 7, 48, 14), 'imsi': '', 'product': 'oupengmax', 'screen_width': '0', 'first_install_time': datetime.datetime(2014, 5, 7, 6, 40, 3), 'phone': 'MI 2A', 'reason': '', 'imei': '', 'manufacturer': 'Xiaomi', 'mac': '', 'channel_id': 'Default_1', 'model': 'MI 2A', 'cellid': '{}', 'screen_height': '0'}, {'first_launch_time': datetime.datetime(2014, 5, 6, 6, 17, 49), 'uid': '3a5204e81b6648eeb94ac85de255f492', 'campaign': 'oupenghoop-90', 'branding': 'oupenghoop_9_3u1', 'android_id': '', 'cpu_arch': 'armv7', 'platform': 'Android_4.4.2', 'version': '9.3.1.75943', 'uninstall_at': datetime.datetime(2014, 5, 7, 8, 14, 27), 'imsi': 'NONE', 'product': 'oupeng9', 'screen_width': '720', 'first_install_time': datetime.datetime(2014, 5, 6, 6, 17, 12), 'phone': 'XT1058', 'reason': '', 'imei': '354984052986863', 'manufacturer': 'motorola', 'mac': '36:30:32:46:4a:49', 'channel_id': 'Oupeng', 'model': 'XT1058', 'cellid': '{\"Cell-ID\":\"2147483647\",\"Lac\":\"2147483647\"}', 'screen_height': '1184'}, {'first_launch_time': datetime.datetime(2014, 5, 7, 8, 15, 59), 'uid': '3a5204e81b6648eeb94ac85de255f492', 'campaign': 'oupenghoop-90', 'branding': 'oupenghoop_9_3u1', 'android_id': '', 'cpu_arch': 'armv7', 'platform': 'Android_4.4.2', 'version': '9.3.1.75978', 'uninstall_at': datetime.datetime(2014, 5, 7, 8, 20, 57), 'imsi': 'NONE', 'product': 'oupeng9', 'screen_width': '720', 'first_install_time': datetime.datetime(2014, 5, 7, 8, 15, 31), 'phone': 'XT1058', 'reason': '', 'imei': '354984052986863', 'manufacturer': 'motorola', 'mac': '36:30:32:46:4a:49', 'channel_id': 'Oupeng', 'model': 'XT1058', 'cellid': '{\"Cell-ID\":\"2147483647\",\"Lac\":\"2147483647\"}', 'screen_height': '1184'}, {'first_launch_time': datetime.datetime(2014, 5, 7, 8, 21, 40), 'uid': '3a5204e81b6648eeb94ac85de255f492', 'campaign': 'oupenghoop-90', 'branding': 'oupenghoop_9_3u1', 'android_id': '', 'cpu_arch': 'armv7', 'platform': 'Android_4.4.2', 'version': '9.3.1.75978', 'uninstall_at': datetime.datetime(2014, 5, 7, 8, 25, 8), 'imsi': 'NONE', 'product': 'oupeng9', 'screen_width': '720', 'first_install_time': datetime.datetime(2014, 5, 7, 8, 21, 14), 'phone': 'XT1058', 'reason': '', 'imei': '354984052986863', 'manufacturer': 'motorola', 'mac': '36:30:32:46:4a:49', 'channel_id': 'Oupeng', 'model': 'XT1058', 'cellid': '{\"Cell-ID\":\"2147483647\",\"Lac\":\"2147483647\"}', 'screen_height': '1184'}, {'first_launch_time': datetime.datetime(2014, 5, 7, 8, 28, 51), 'uid': '3a5204e81b6648eeb94ac85de255f492', 'campaign': 'oupenghoop-90', 'branding': 'oupenghoop_9_3u1', 'android_id': '', 'cpu_arch': 'armv7', 'platform': 'Android_4.4.2', 'version': '9.3.1.75978', 'uninstall_at': datetime.datetime(2014, 5, 7, 8, 31, 56), 'imsi': 'NONE', 'product': 'oupeng9', 'screen_width': '720', 'first_install_time': datetime.datetime(2014, 5, 7, 8, 28, 7), 'phone': 'XT1058', 'reason': '', 'imei': '354984052986863', 'manufacturer': 'motorola', 'mac': '36:30:32:46:4a:49', 'channel_id': 'Oupeng', 'model': 'XT1058', 'cellid': '{\"Cell-ID\":\"2147483647\",\"Lac\":\"2147483647\"}', 'screen_height': '1184'}, {'first_launch_time': datetime.datetime(2014, 5, 7, 15, 1, 49), 'uid': '5ab0d456045f4ad681874af1f1658770', 'campaign': 'oupenghoop-90', 'branding': 'oupenghoop_9_3u1', 'android_id': '', 'cpu_arch': 'armv7', 'platform': 'Android_4.0.4', 'version': '9.3.1.76004', 'uninstall_at': datetime.datetime(2014, 5, 7, 8, 35, 57), 'imsi': 'NONE', 'product': 'oupeng9', 'screen_width': '480', 'first_install_time': datetime.datetime(2014, 5, 7, 14, 58, 30), 'phone': 'MI-ONE Plus', 'reason': '', 'imei': '865030017145187', 'manufacturer': 'Xiaomi', 'mac': 'C4:6A:B7:2F:00:CC', 'channel_id': 'Oupeng', 'model': 'MI-ONE Plus', 'cellid': '{\"Cell-ID\":\"NONE\",\"Lac\":\"NONE\"}', 'screen_height': '854'}, {'first_launch_time': datetime.datetime(2014, 5, 7, 8, 21, 59), 'uid': '29efccbfdf514eb5b3bd6a525facb730', 'campaign': 'oupenghoop-90', 'branding': 'oupenghoop_9_3u1', 'android_id': '', 'cpu_arch': 'armv7', 'platform': 'Android_4.4.2', 'version': '9.3.1.75967', 'uninstall_at': datetime.datetime(2014, 5, 7, 8, 45, 5), 'imsi': '460010820603808', 'product': 'oupeng9', 'screen_width': '1080', 'first_install_time': datetime.datetime(2014, 5, 7, 8, 21, 48), 'phone': 'Nexus 5', 'reason': '', 'imei': '358239057154082', 'manufacturer': 'LGE', 'mac': 'c4:43:8f:f8:58:c4', 'channel_id': 'Oupeng', 'model': 'Nexus 5', 'cellid': '{\"Cell-ID\":\"4340809\",\"Lac\":\"41010\"}', 'screen_height': '1776'}, {'first_launch_time': datetime.datetime(2014, 5, 7, 8, 45, 44), 'uid': '29efccbfdf514eb5b3bd6a525facb730', 'campaign': 'oupenghoop-90', 'branding': 'oupenghoop_9_3u1', 'android_id': '', 'cpu_arch': 'armv7', 'platform': 'Android_4.4.2', 'version': '9.3.1.75978', 'uninstall_at': datetime.datetime(2014, 5, 7, 9, 7, 46), 'imsi': '460010820603808', 'product': 'oupeng9', 'screen_width': '1080', 'first_install_time': datetime.datetime(2014, 5, 7, 8, 45, 34), 'phone': 'Nexus 5', 'reason': '', 'imei': '358239057154082', 'manufacturer': 'LGE', 'mac': 'c4:43:8f:f8:58:c4', 'channel_id': 'Oupeng', 'model': 'Nexus 5', 'cellid': '{\"Cell-ID\":\"4340807\",\"Lac\":\"41010\"}', 'screen_height': '1776'}, {'first_launch_time': datetime.datetime(2014, 5, 7, 9, 12, 40), 'uid': '29efccbfdf514eb5b3bd6a525facb730', 'campaign': 'oupenghoop-90', 'branding': 'oupenghoop_9_3u1', 'android_id': '', 'cpu_arch': 'armv7', 'platform': 'Android_4.4.2', 'version': '9.3.1.75953', 'uninstall_at': datetime.datetime(2014, 5, 7, 9, 29, 27), 'imsi': '460010820603808', 'product': 'oupeng9', 'screen_width': '1080', 'first_install_time': datetime.datetime(2014, 5, 7, 9, 12, 29), 'phone': 'Nexus 5', 'reason': '', 'imei': '358239057154082', 'manufacturer': 'LGE', 'mac': 'c4:43:8f:f8:58:c4', 'channel_id': 'Oupeng', 'model': 'Nexus 5', 'cellid': '{\"Cell-ID\":\"4340807\",\"Lac\":\"41010\"}', 'screen_height': '1776'}, {'first_launch_time': datetime.datetime(2014, 5, 7, 8, 27, 28), 'uid': '26161f047aa747bab04acadd49bfcb9e', 'campaign': 'oupenghoop-90', 'branding': 'oupenghoop_9_3u1', 'android_id': '', 'cpu_arch': 'armv7', 'platform': 'Android_4.0.4', 'version': '9.3.1.75967', 'uninstall_at': datetime.datetime(2014, 5, 7, 10, 12, 33), 'imsi': '460001733134006', 'product': 'oupeng9', 'screen_width': '720', 'first_install_time': datetime.datetime(2014, 5, 7, 8, 27, 17), 'phone': 'LT26i', 'reason': '', 'imei': '352900051164734', 'manufacturer': 'Sony Ericsson', 'mac': '30:39:26:03:68:b8', 'channel_id': 'Oupeng', 'model': 'LT26i', 'cellid': '{\"Cell-ID\":\"14672\",\"Lac\":\"4274\"}', 'screen_height': '1280'}, {'first_launch_time': datetime.datetime(2014, 5, 7, 8, 27, 28), 'uid': '26161f047aa747bab04acadd49bfcb9e', 'campaign': 'oupenghoop-90', 'branding': 'oupenghoop_9_3u1', 'android_id': '', 'cpu_arch': 'armv7', 'platform': 'Android_4.0.4', 'version': '9.3.1.75967', 'uninstall_at': datetime.datetime(2014, 5, 7, 10, 23, 54), 'imsi': '460001733134006', 'product': 'oupeng9', 'screen_width': '720', 'first_install_time': datetime.datetime(2014, 5, 7, 8, 27, 17), 'phone': 'LT26i', 'reason': '', 'imei': '352900051164734', 'manufacturer': 'Sony Ericsson', 'mac': '30:39:26:03:68:b8', 'channel_id': 'Oupeng', 'model': 'LT26i', 'cellid': '{\"Cell-ID\":\"14672\",\"Lac\":\"4274\"}', 'screen_height': '1280'}, {'first_launch_time': datetime.datetime(2014, 5, 7, 10, 42, 13), 'uid': '26161f047aa747bab04acadd49bfcb9e', 'campaign': 'oupenghoop-90', 'branding': 'oupenghoop_9_3u1', 'android_id': '', 'cpu_arch': 'armv7', 'platform': 'Android_4.0.4', 'version': '9.3.1.75952', 'uninstall_at': datetime.datetime(2014, 5, 7, 10, 45, 14), 'imsi': '460001733134006', 'product': 'oupeng9', 'screen_width': '720', 'first_install_time': datetime.datetime(2014, 5, 7, 10, 42, 2), 'phone': 'LT26i', 'reason': '', 'imei': '352900051164734', 'manufacturer': 'Sony Ericsson', 'mac': '30:39:26:03:68:b8', 'channel_id': 'Oupeng', 'model': 'LT26i', 'cellid': '{\"Cell-ID\":\"14672\",\"Lac\":\"4274\"}', 'screen_height': '1280'}, {'first_launch_time': datetime.datetime(2014, 5, 7, 10, 46, 40), 'uid': '26161f047aa747bab04acadd49bfcb9e', 'campaign': 'oupenghoop-90', 'branding': 'oupenghoop_9_3u1', 'android_id': '', 'cpu_arch': 'armv7', 'platform': 'Android_4.0.4', 'version': '9.3.1.75952', 'uninstall_at': datetime.datetime(2014, 5, 7, 10, 54, 28), 'imsi': '460001733134006', 'product': 'oupeng9', 'screen_width': '720', 'first_install_time': datetime.datetime(2014, 5, 7, 10, 45, 26), 'phone': 'LT26i', 'reason': '', 'imei': '352900051164734', 'manufacturer': 'Sony Ericsson', 'mac': '30:39:26:03:68:b8', 'channel_id': 'Oupeng', 'model': 'LT26i', 'cellid': '{\"Cell-ID\":\"14672\",\"Lac\":\"4274\"}', 'screen_height': '1280'}, {'first_launch_time': datetime.datetime(2014, 5, 7, 11, 15, 4), 'uid': '072829ffcbcf4259be1d7ea1c123bd2c', 'campaign': 'oupenghoop-90', 'branding': 'oupenghoop_9_3u1', 'android_id': '', 'cpu_arch': 'armv7', 'platform': 'Android_4.0.3', 'version': '9.3.1.75978', 'uninstall_at': datetime.datetime(2014, 5, 7, 11, 17, 44), 'imsi': '460020260539242', 'product': 'oupeng9', 'screen_width': '540', 'first_install_time': datetime.datetime(2014, 5, 7, 11, 14, 41), 'phone': 'U9200', 'reason': '', 'imei': '863101010492157', 'manufacturer': 'HUAWEI', 'mac': 'c8:d1:5e:2f:73:f3', 'channel_id': 'Oupeng', 'model': 'U9200', 'cellid': '{\"Cell-ID\":\"21998\",\"Lac\":\"4278\"}', 'screen_height': '960'}]"
     ],
     "language": "python",
     "metadata": {},
     "outputs": [],
     "prompt_number": 5
    },
    {
     "cell_type": "code",
     "collapsed": false,
     "input": [
      "df = DataFrame(data)"
     ],
     "language": "python",
     "metadata": {},
     "outputs": [],
     "prompt_number": 7
    },
    {
     "cell_type": "code",
     "collapsed": false,
     "input": [
      "group = df.groupby('product')"
     ],
     "language": "python",
     "metadata": {},
     "outputs": [],
     "prompt_number": 26
    },
    {
     "cell_type": "code",
     "collapsed": false,
     "input": [
      "g = group.get_group('oupeng9')"
     ],
     "language": "python",
     "metadata": {},
     "outputs": [],
     "prompt_number": 30
    },
    {
     "cell_type": "code",
     "collapsed": false,
     "input": [
      "len(g)"
     ],
     "language": "python",
     "metadata": {},
     "outputs": [
      {
       "metadata": {},
       "output_type": "pyout",
       "prompt_number": 33,
       "text": [
        "21"
       ]
      }
     ],
     "prompt_number": 33
    },
    {
     "cell_type": "code",
     "collapsed": false,
     "input": [],
     "language": "python",
     "metadata": {},
     "outputs": []
    }
   ],
   "metadata": {}
  }
 ]
}
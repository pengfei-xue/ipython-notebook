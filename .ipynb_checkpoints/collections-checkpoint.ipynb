{
 "metadata": {
  "name": "",
  "signature": "sha256:f6a18457e0d1cc5ee4e70ae1324d1da9c7a5027c953b92ee0f576c9df4ca812d"
 },
 "nbformat": 3,
 "nbformat_minor": 0,
 "worksheets": [
  {
   "cells": [
    {
     "cell_type": "markdown",
     "metadata": {},
     "source": [
      "### OrderedDict \u8f6c\u4e3ajson"
     ]
    },
    {
     "cell_type": "code",
     "collapsed": false,
     "input": [
      "from collections import OrderedDict\n",
      "od = OrderedDict()"
     ],
     "language": "python",
     "metadata": {},
     "outputs": [],
     "prompt_number": 6
    },
    {
     "cell_type": "code",
     "collapsed": false,
     "input": [
      "data = [{u'date': u'2014-04-24', u'new': {u'branding': {u'oupenghoop_9_3': 1}, u'counts': 1, u'version': {u'9-3-0-75285': 1}}, u'ts': 1398297600}, {u'date': u'2014-04-22', u'new': {u'branding': {u'oupenghoop_9_3': 1}, u'counts': 1, u'version': {u'9-3-0-75285': 1}}, u'ts': 1398124800}, {u'date': u'2014-04-21', u'new': {u'branding': {u'oupenghoop_9_3': 1}, u'counts': 1, u'version': {u'9-3-0-2147483647': 1}}, u'ts': 1398038400}, {u'date': u'2014-04-16', u'new': {u'branding': {u'oupenghoop_9_3': 2}, u'counts': 2, u'version': {u'9-3-0-2147483647': 2}}, u'ts': 1397606400}, {u'date': u'2014-04-14', u'new': {u'branding': {u'oupenghoop_9_2u1': 1, u'oupenghoop_9_3': 1}, u'counts': 2, u'version': {u'9-2-1-73843': 1, u'9-3-0-2147483647': 1}}, u'ts': 1397433600}, {u'date': u'2014-04-08', u'new': {u'branding': {u'oupenghoop_9_3': 1}, u'counts': 1, u'version': {u'9-3-0-2147483647': 1}}, u'ts': 1396915200}, {u'date': u'2014-04-04', u'new': {u'branding': {u'oupenghoop_9_3u1': 1, u'oupenghoop_9_3': 2}, u'counts': 3, u'version': {u'9-3-1-75463': 1, u'9-3-0-2147483647': 2}}, u'ts': 1396569600}, {u'date': u'2014-04-03', u'new': {u'branding': {u'oupenghoop_9_3': 1}, u'counts': 1, u'version': {u'9-3-0-74167': 1}}, u'ts': 1396483200}, {u'date': u'2014-04-02', u'new': {u'branding': {u'oupenghoop_9_3u1': 1}, u'counts': 1, u'version': {u'9-3-1-75485': 1}}, u'ts': 1396396800}, {u'date': u'2014-04-01', u'new': {u'branding': {u'oupenghoop_9_3u1': 1, u'oupenghoop_9_3': 2}, u'counts': 3, u'version': {u'9-3-1-75654': 1, u'9-3-0-2147483647': 2}}, u'ts': 1396310400}, {u'date': u'2014-05-06', u'new': {u'branding': {u'oupenghoop_9_3u1': 2}, u'counts': 2, u'version': {u'9-3-1-75968': 1, u'9-3-1-2147483647': 1}}, u'ts': 1399334400}]"
     ],
     "language": "python",
     "metadata": {},
     "outputs": [],
     "prompt_number": 7
    },
    {
     "cell_type": "code",
     "collapsed": false,
     "input": [
      "for i in sorted(data, key=lambda t: t['ts']):\n",
      "    od[i['date']] = i['new']['counts']"
     ],
     "language": "python",
     "metadata": {},
     "outputs": [],
     "prompt_number": 9
    },
    {
     "cell_type": "code",
     "collapsed": false,
     "input": [
      "od"
     ],
     "language": "python",
     "metadata": {},
     "outputs": [
      {
       "metadata": {},
       "output_type": "pyout",
       "prompt_number": 10,
       "text": [
        "OrderedDict([(u'2014-04-01', 3), (u'2014-04-02', 1), (u'2014-04-03', 1), (u'2014-04-04', 3), (u'2014-04-08', 1), (u'2014-04-14', 2), (u'2014-04-16', 2), (u'2014-04-21', 1), (u'2014-04-22', 1), (u'2014-04-24', 1), (u'2014-05-06', 2)])"
       ]
      }
     ],
     "prompt_number": 10
    },
    {
     "cell_type": "code",
     "collapsed": false,
     "input": [
      "import json\n",
      "json.dumps(od)"
     ],
     "language": "python",
     "metadata": {},
     "outputs": [
      {
       "metadata": {},
       "output_type": "pyout",
       "prompt_number": 12,
       "text": [
        "'{\"2014-04-01\": 3, \"2014-04-02\": 1, \"2014-04-03\": 1, \"2014-04-04\": 3, \"2014-04-08\": 1, \"2014-04-14\": 2, \"2014-04-16\": 2, \"2014-04-21\": 1, \"2014-04-22\": 1, \"2014-04-24\": 1, \"2014-05-06\": 2}'"
       ]
      }
     ],
     "prompt_number": 12
    },
    {
     "cell_type": "code",
     "collapsed": false,
     "input": [],
     "language": "python",
     "metadata": {},
     "outputs": []
    }
   ],
   "metadata": {}
  }
 ]
}
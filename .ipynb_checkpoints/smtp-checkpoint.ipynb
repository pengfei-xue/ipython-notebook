{
 "metadata": {
  "name": "",
  "signature": "sha256:45bebc9b15c345726a467db9ae4164ddd272b37a177ea94cef621b890de608cd"
 },
 "nbformat": 3,
 "nbformat_minor": 0,
 "worksheets": [
  {
   "cells": [
    {
     "cell_type": "code",
     "collapsed": false,
     "input": [
      "import smtplib\n",
      "import time\n",
      "from datetime import datetime\n",
      "from email.MIMEMultipart import MIMEMultipart\n",
      "from email.MIMEText import MIMEText\n",
      "\n",
      "\n",
      "today = datetime.utcnow()\n",
      "ordinal = today.toordinal() - 1\n",
      "yesterday = datetime.fromordinal(ordinal)\n",
      "\n",
      "start = time.mktime(yesterday.timetuple())\n",
      "today = datetime(today.year, today.month, today.day)\n",
      "end = time.mktime(today.timetuple())\n",
      "\n",
      "subject = yesterday.strftime('\u514d\u6d41 %Y-%m-%d \u65b0\u589e\u7528\u6237')\n",
      "\n",
      "server = smtplib.SMTP_SSL('smtp.163.com', 465)\n",
      "server.login('backup_notifier@163.com', 'EaRAjVwW')\n",
      "\n",
      "\n",
      "msg = MIMEMultipart()\n",
      "msg['From'] = 'pengfeix@163.com'\n",
      "msg['To'] = 'pengfeix@163.com'\n",
      "msg['Cc'] = 'pengfeix@163.com,xpen.love@163.com'\n",
      "msg['Subject'] = subject\n",
      "body = '%s %s' % (yesterday.strftime('%Y-%m-%d'), 12)\n",
      "msg.attach(MIMEText(body, 'plain'))\n",
      "\n",
      "# Email headers don't matter to the smtp server. Just add the CC and BCC recipients to the toaddrs when you send your email. \n",
      "# http://stackoverflow.com/questions/1546367/python-how-to-send-mail-with-to-cc-and-bcc\n",
      "recipients = ['pengfeix@oupeng.com', 'pengfeix@163.com', 'pengphy@gmail.com']\n",
      "\n",
      "server.sendmail('backup_notifier@163.com', recipients, msg.as_string())"
     ],
     "language": "python",
     "metadata": {},
     "outputs": [
      {
       "metadata": {},
       "output_type": "pyout",
       "prompt_number": 2,
       "text": [
        "{}"
       ]
      }
     ],
     "prompt_number": 2
    },
    {
     "cell_type": "code",
     "collapsed": false,
     "input": [],
     "language": "python",
     "metadata": {},
     "outputs": []
    }
   ],
   "metadata": {}
  }
 ]
}
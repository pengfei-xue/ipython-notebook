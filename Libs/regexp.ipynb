{
 "cells": [
  {
   "cell_type": "code",
   "execution_count": 42,
   "metadata": {
    "collapsed": true
   },
   "outputs": [],
   "source": [
    "import re\n",
    "\n",
    "_link = re.compile(\n",
    "    r'(?<!!)\\[('\n",
    "    r'(?:\\[[^^\\]]*\\]|[^\\[\\]]|\\](?=[^\\[]*\\]))*'\n",
    "    r')\\]\\('\n",
    "    r'''\\s*<?([\\s\\S]*?)>?(?:\\s+['\"]([\\s\\S]*?)['\"])?\\s*'''\n",
    "    r'\\)'\n",
    ")\n",
    "_image_link = re.compile(\n",
    "    r'!\\[('\n",
    "    r'(?:\\[[^^\\]]*\\]|[^\\[\\]]|\\](?=[^\\[]*\\]))*'\n",
    "    r')\\]\\('\n",
    "    r'''\\s*<?([\\s\\S]*?)>?(?:\\s+['\"]([\\s\\S]*?)['\"])?\\s*'''\n",
    "    r'\\)'\n",
    ")\n",
    "\n",
    "def strip_markdown_links(md_txt, keep_image=False):\n",
    "    \"\"\"strip markdown link and image.\"\"\"\n",
    "    striped = _link.sub('', md_txt)\n",
    "    if keep_image: return striped\n",
    "\n",
    "    striped = _image_link.sub('', striped)\n",
    "    return striped"
   ]
  },
  {
   "cell_type": "code",
   "execution_count": 43,
   "metadata": {
    "collapsed": true
   },
   "outputs": [],
   "source": [
    "content = \"\"\"\n",
    "![](http://wanmeizhensuo.qiniudn.com/2015/05/22/2a447f47c1)\n",
    "因为处女膜而产生的情感破裂虽然令人气愤,但是如果你认为修补术可以避免这种问题那么可以一试,但是感情关乎的还是心与心之间的距离。所以,该想清楚的是需要修复的是“膜”还是“心”？\n",
    "![](http://wanmeizhensuo.qiniudn.com/2015/05/22/01155bdf83)\n",
    "\n",
    "[](http://baidu.com) 这个是百度链接\n",
    "\"\"\""
   ]
  },
  {
   "cell_type": "code",
   "execution_count": 44,
   "metadata": {
    "collapsed": false
   },
   "outputs": [
    {
     "name": "stdout",
     "output_type": "stream",
     "text": [
      "\n",
      "\n",
      "因为处女膜而产生的情感破裂虽然令人气愤,但是如果你认为修补术可以避免这种问题那么可以一试,但是感情关乎的还是心与心之间的距离。所以,该想清楚的是需要修复的是“膜”还是“心”？\n",
      "\n",
      "\n",
      " 这个是百度链接\n",
      "\n",
      "------------------------------\n",
      "\n",
      "![](http://wanmeizhensuo.qiniudn.com/2015/05/22/2a447f47c1)\n",
      "因为处女膜而产生的情感破裂虽然令人气愤,但是如果你认为修补术可以避免这种问题那么可以一试,但是感情关乎的还是心与心之间的距离。所以,该想清楚的是需要修复的是“膜”还是“心”？\n",
      "![](http://wanmeizhensuo.qiniudn.com/2015/05/22/01155bdf83)\n",
      "\n",
      " 这个是百度链接\n",
      "\n"
     ]
    }
   ],
   "source": [
    "print strip_markdown_links(content)\n",
    "print '-' * 30\n",
    "print strip_markdown_links(content, True)"
   ]
  },
  {
   "cell_type": "code",
   "execution_count": null,
   "metadata": {
    "collapsed": true
   },
   "outputs": [],
   "source": []
  }
 ],
 "metadata": {
  "kernelspec": {
   "display_name": "Python 2",
   "language": "python",
   "name": "python2"
  },
  "language_info": {
   "codemirror_mode": {
    "name": "ipython",
    "version": 2
   },
   "file_extension": ".py",
   "mimetype": "text/x-python",
   "name": "python",
   "nbconvert_exporter": "python",
   "pygments_lexer": "ipython2",
   "version": "2.7.6"
  }
 },
 "nbformat": 4,
 "nbformat_minor": 0
}

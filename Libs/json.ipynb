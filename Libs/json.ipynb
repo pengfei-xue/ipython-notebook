{
 "metadata": {
  "name": "",
  "signature": "sha256:06e182ba796d045f37edfbb8ed2304f7a900ab0106584ed18fe18d521d1f4808"
 },
 "nbformat": 3,
 "nbformat_minor": 0,
 "worksheets": [
  {
   "cells": [
    {
     "cell_type": "code",
     "collapsed": false,
     "input": [
      "import json\n",
      "from datetime import datetime\n",
      "\n",
      "\n",
      "class T(object):\n",
      "    date = None\n",
      "    \n",
      "    def __init__(self, date):\n",
      "        self.date = date\n",
      "\n",
      "    def to_json(self):\n",
      "        self.__dict__['date'] = str(self.date)\n",
      "        return json.dumps(self.__dict__)\n",
      "    \n",
      "    @classmethod\n",
      "    def from_json(cls, json_str):\n",
      "        obj = json.loads(json_str)\n",
      "        obj['date'] = datetime.strptime(obj['date'], '%Y-%m-%d %H:%M:%S')\n",
      "        return cls(**obj)\n",
      "\n",
      "        \n",
      "t = T(datetime(2013, 4, 5))\n",
      "t.to_json()"
     ],
     "language": "python",
     "metadata": {},
     "outputs": [
      {
       "metadata": {},
       "output_type": "pyout",
       "prompt_number": 15,
       "text": [
        "'{\"date\": \"2013-04-05 00:00:00\"}'"
       ]
      }
     ],
     "prompt_number": 15
    },
    {
     "cell_type": "code",
     "collapsed": false,
     "input": [
      "obj = T.from_json(t.to_json())"
     ],
     "language": "python",
     "metadata": {},
     "outputs": [],
     "prompt_number": 16
    },
    {
     "cell_type": "code",
     "collapsed": false,
     "input": [
      "obj.date"
     ],
     "language": "python",
     "metadata": {},
     "outputs": [
      {
       "metadata": {},
       "output_type": "pyout",
       "prompt_number": 18,
       "text": [
        "datetime.datetime(2013, 4, 5, 0, 0)"
       ]
      }
     ],
     "prompt_number": 18
    },
    {
     "cell_type": "code",
     "collapsed": false,
     "input": [],
     "language": "python",
     "metadata": {},
     "outputs": []
    }
   ],
   "metadata": {}
  }
 ]
}
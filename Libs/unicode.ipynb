{
 "metadata": {
  "name": "",
  "signature": "sha256:7d455a3eca6d62484b7c1a7bdbf0b65a3b6e07d145dc52ded40a8a9bd871244e"
 },
 "nbformat": 3,
 "nbformat_minor": 0,
 "worksheets": [
  {
   "cells": [
    {
     "cell_type": "markdown",
     "metadata": {},
     "source": [
      "### \u6253\u5370unicode"
     ]
    },
    {
     "cell_type": "code",
     "collapsed": false,
     "input": [
      "a = '\\u540c\\u6b65\\u65f6\\u53d1\\u751f\\u9519\\u8bef'"
     ],
     "language": "python",
     "metadata": {},
     "outputs": [],
     "prompt_number": 1
    },
    {
     "cell_type": "code",
     "collapsed": false,
     "input": [
      "print a"
     ],
     "language": "python",
     "metadata": {},
     "outputs": [
      {
       "output_type": "stream",
       "stream": "stdout",
       "text": [
        "\\u540c\\u6b65\\u65f6\\u53d1\\u751f\\u9519\\u8bef\n"
       ]
      }
     ],
     "prompt_number": 2
    },
    {
     "cell_type": "code",
     "collapsed": false,
     "input": [
      "a = u'\\u540c\\u6b65\\u65f6\\u53d1\\u751f\\u9519\\u8bef'"
     ],
     "language": "python",
     "metadata": {},
     "outputs": [],
     "prompt_number": 3
    },
    {
     "cell_type": "code",
     "collapsed": false,
     "input": [
      "print a"
     ],
     "language": "python",
     "metadata": {},
     "outputs": [
      {
       "output_type": "stream",
       "stream": "stdout",
       "text": [
        "\u540c\u6b65\u65f6\u53d1\u751f\u9519\u8bef\n"
       ]
      }
     ],
     "prompt_number": 4
    },
    {
     "cell_type": "code",
     "collapsed": false,
     "input": [],
     "language": "python",
     "metadata": {},
     "outputs": []
    }
   ],
   "metadata": {}
  }
 ]
}
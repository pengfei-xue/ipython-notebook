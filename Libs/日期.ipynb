{
 "cells": [
  {
   "cell_type": "markdown",
   "metadata": {},
   "source": [
    "### 从字符串转化为datetime对象"
   ]
  },
  {
   "cell_type": "code",
   "execution_count": 1,
   "metadata": {
    "collapsed": false
   },
   "outputs": [
    {
     "data": {
      "text/plain": [
       "datetime.datetime(2014, 2, 13, 0, 0)"
      ]
     },
     "execution_count": 1,
     "metadata": {},
     "output_type": "execute_result"
    }
   ],
   "source": [
    "from datetime import datetime\n",
    "\n",
    "d = datetime.strptime('2014-02-13', '%Y-%m-%d')\n",
    "d"
   ]
  },
  {
   "cell_type": "code",
   "execution_count": 2,
   "metadata": {
    "collapsed": false
   },
   "outputs": [
    {
     "data": {
      "text/plain": [
       "datetime.datetime(2014, 4, 28, 10, 13, 40)"
      ]
     },
     "execution_count": 2,
     "metadata": {},
     "output_type": "execute_result"
    }
   ],
   "source": [
    "d = datetime.strptime('2014-04-28 10:13:40', '%Y-%m-%d %H:%M:%S')\n",
    "d"
   ]
  },
  {
   "cell_type": "markdown",
   "metadata": {},
   "source": [
    "### datetime对象转化为timestamp"
   ]
  },
  {
   "cell_type": "code",
   "execution_count": 11,
   "metadata": {
    "collapsed": false
   },
   "outputs": [
    {
     "name": "stdout",
     "output_type": "stream",
     "text": [
      "1398680020\n",
      "1398651220.0\n"
     ]
    }
   ],
   "source": [
    "import calendar\n",
    "\n",
    "t = calendar.timegm(d.utctimetuple())\n",
    "print t\n",
    "\n",
    "import time\n",
    "t = time.mktime(d.timetuple())\n",
    "print t"
   ]
  },
  {
   "cell_type": "code",
   "execution_count": 16,
   "metadata": {
    "collapsed": false
   },
   "outputs": [
    {
     "name": "stdout",
     "output_type": "stream",
     "text": [
      "2014-04-28 18:13:40\n"
     ]
    }
   ],
   "source": [
    "print datetime.fromtimestamp(1398680020)"
   ]
  },
  {
   "cell_type": "code",
   "execution_count": 17,
   "metadata": {
    "collapsed": false
   },
   "outputs": [
    {
     "name": "stdout",
     "output_type": "stream",
     "text": [
      "2014-04-28 10:13:40\n"
     ]
    }
   ],
   "source": [
    "print datetime.fromtimestamp(1398651220.0)"
   ]
  },
  {
   "cell_type": "markdown",
   "metadata": {},
   "source": [
    "### timestamp转化为datetime对象"
   ]
  },
  {
   "cell_type": "code",
   "execution_count": 4,
   "metadata": {
    "collapsed": false
   },
   "outputs": [
    {
     "name": "stdout",
     "output_type": "stream",
     "text": [
      "2014-05-23 00:00:00\n",
      "1400774400\n",
      "2014-05-22 00:00:00\n"
     ]
    }
   ],
   "source": [
    "dt = datetime.fromtimestamp(1400688000 + 3600*24)\n",
    "print dt\n",
    "print 1400688000 + 3600*24\n",
    "\n",
    "dt = datetime.fromtimestamp(1400688000)\n",
    "print dt"
   ]
  },
  {
   "cell_type": "markdown",
   "metadata": {},
   "source": [
    "### 获取昨天日期对象"
   ]
  },
  {
   "cell_type": "code",
   "execution_count": 5,
   "metadata": {
    "collapsed": false
   },
   "outputs": [
    {
     "data": {
      "text/plain": [
       "datetime.datetime(2014, 5, 23, 21, 17, 5, 470462)"
      ]
     },
     "execution_count": 5,
     "metadata": {},
     "output_type": "execute_result"
    }
   ],
   "source": [
    "today = datetime.today()\n",
    "today"
   ]
  },
  {
   "cell_type": "code",
   "execution_count": 6,
   "metadata": {
    "collapsed": false
   },
   "outputs": [
    {
     "data": {
      "text/plain": [
       "datetime.datetime(2014, 5, 22, 0, 0)"
      ]
     },
     "execution_count": 6,
     "metadata": {},
     "output_type": "execute_result"
    }
   ],
   "source": [
    "ordinal = today.toordinal() - 1\n",
    "yesterday = datetime.fromordinal(ordinal)\n",
    "yesterday"
   ]
  },
  {
   "cell_type": "code",
   "execution_count": 7,
   "metadata": {
    "collapsed": false
   },
   "outputs": [
    {
     "data": {
      "text/plain": [
       "1400716800"
      ]
     },
     "execution_count": 7,
     "metadata": {},
     "output_type": "execute_result"
    }
   ],
   "source": [
    "calendar.timegm(yesterday.utctimetuple())"
   ]
  },
  {
   "cell_type": "code",
   "execution_count": 8,
   "metadata": {
    "collapsed": false
   },
   "outputs": [
    {
     "data": {
      "text/plain": [
       "1400630400"
      ]
     },
     "execution_count": 8,
     "metadata": {},
     "output_type": "execute_result"
    }
   ],
   "source": [
    "ordinal = today.toordinal() - 2\n",
    "yesterday = datetime.fromordinal(ordinal)\n",
    "yesterday\n",
    "calendar.timegm(yesterday.utctimetuple())"
   ]
  },
  {
   "cell_type": "markdown",
   "metadata": {},
   "source": [
    "## time.mktime vs calendar.timegm\n",
    "\n",
    "time.mktime(t)  pass local time as a input and calendar.timegm(t)'s t is UTC time. The below is from python doc.\n",
    "\n",
    "time.mktime(t) This is the inverse function of localtime(). Its argument is the struct_time or full 9-tuple (since the dst flag is needed; use -1 as the dst flag if it is unknown) which expresses the time in local time, not UTC. It returns a floating point number, for compatibility with time(). If the input value cannot be represented as a valid time, either OverflowError or ValueError will be raised (which depends on whether the invalid value is caught by Python or the underlying C libraries). The earliest date for which it can generate a time is platform-dependent.\n",
    "\n",
    " \n",
    "calendar.timegm(tuple) An unrelated but handy function that takes a time tuple such as returned by the gmtime() function in the time module, and returns the corresponding Unix timestamp value, assuming an epoch of 1970, and the POSIX encoding. In fact, time.gmtime() and timegm() are each others’ inverse.\n"
   ]
  },
  {
   "cell_type": "code",
   "execution_count": 18,
   "metadata": {
    "collapsed": false
   },
   "outputs": [
    {
     "name": "stdout",
     "output_type": "stream",
     "text": [
      "2014-05-23 21:21:11.179673\n"
     ]
    }
   ],
   "source": [
    "today = datetime.today()\n",
    "print today"
   ]
  },
  {
   "cell_type": "code",
   "execution_count": 21,
   "metadata": {
    "collapsed": false
   },
   "outputs": [
    {
     "name": "stdout",
     "output_type": "stream",
     "text": [
      "2014-05-23 00:00:00\n"
     ]
    }
   ],
   "source": [
    "today = datetime(today.year, today.month, today.day)\n",
    "print today"
   ]
  },
  {
   "cell_type": "code",
   "execution_count": 23,
   "metadata": {
    "collapsed": false
   },
   "outputs": [
    {
     "name": "stdout",
     "output_type": "stream",
     "text": [
      "1400774400.0\n",
      "1400803200\n",
      "time.struct_time(tm_year=2014, tm_mon=5, tm_mday=23, tm_hour=0, tm_min=0, tm_sec=0, tm_wday=4, tm_yday=143, tm_isdst=-1)\n",
      "time.struct_time(tm_year=2014, tm_mon=5, tm_mday=23, tm_hour=0, tm_min=0, tm_sec=0, tm_wday=4, tm_yday=143, tm_isdst=0)\n"
     ]
    }
   ],
   "source": [
    "mk = time.mktime(today.timetuple())\n",
    "gm = calendar.timegm(today.timetuple())\n",
    "print mk\n",
    "print gm\n",
    "print today.timetuple()\n",
    "print today.utctimetuple()"
   ]
  },
  {
   "cell_type": "code",
   "execution_count": 24,
   "metadata": {
    "collapsed": false
   },
   "outputs": [
    {
     "name": "stdout",
     "output_type": "stream",
     "text": [
      "2014-05-23 00:00:00\n",
      "2014-05-23 08:00:00\n",
      "2014-05-22 16:00:00\n",
      "2014-05-23 00:00:00\n"
     ]
    }
   ],
   "source": [
    "print datetime.fromtimestamp(mk)\n",
    "print datetime.fromtimestamp(gm)\n",
    "print datetime.utcfromtimestamp(mk)\n",
    "print datetime.utcfromtimestamp(gm)"
   ]
  },
  {
   "cell_type": "code",
   "execution_count": 7,
   "metadata": {
    "collapsed": false
   },
   "outputs": [
    {
     "data": {
      "text/plain": [
       "18148"
      ]
     },
     "execution_count": 7,
     "metadata": {},
     "output_type": "execute_result"
    }
   ],
   "source": [
    "def get_seconds_left_to_end_of_day():\n",
    "    import datetime\n",
    "    now = datetime.datetime.now()\n",
    "    end_of_day = datetime.datetime.combine(now, datetime.time.max)\n",
    "    time_delta = end_of_day - now\n",
    "    return int(time_delta.total_seconds())\n",
    "get_seconds_left_to_end_of_day()"
   ]
  },
  {
   "cell_type": "code",
   "execution_count": null,
   "metadata": {
    "collapsed": true
   },
   "outputs": [],
   "source": []
  }
 ],
 "metadata": {
  "kernelspec": {
   "display_name": "Python 2",
   "language": "python",
   "name": "python2"
  },
  "language_info": {
   "codemirror_mode": {
    "name": "ipython",
    "version": 2
   },
   "file_extension": ".py",
   "mimetype": "text/x-python",
   "name": "python",
   "nbconvert_exporter": "python",
   "pygments_lexer": "ipython2",
   "version": "2.7.10"
  }
 },
 "nbformat": 4,
 "nbformat_minor": 0
}

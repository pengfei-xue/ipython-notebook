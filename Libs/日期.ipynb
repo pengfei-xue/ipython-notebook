{
 "metadata": {
  "name": "",
  "signature": "sha256:e49d7e1c6e75157d05f85812017c60d7152fa2d80396e0bcc2f467be7f9fd37b"
 },
 "nbformat": 3,
 "nbformat_minor": 0,
 "worksheets": [
  {
   "cells": [
    {
     "cell_type": "markdown",
     "metadata": {},
     "source": [
      "### \u4ece\u5b57\u7b26\u4e32\u8f6c\u5316\u4e3adatetime\u5bf9\u8c61"
     ]
    },
    {
     "cell_type": "code",
     "collapsed": false,
     "input": [
      "from datetime import datetime\n",
      "\n",
      "d = datetime.strptime('2014-02-13', '%Y-%m-%d')\n",
      "d"
     ],
     "language": "python",
     "metadata": {},
     "outputs": [
      {
       "metadata": {},
       "output_type": "pyout",
       "prompt_number": 1,
       "text": [
        "datetime.datetime(2014, 2, 13, 0, 0)"
       ]
      }
     ],
     "prompt_number": 1
    },
    {
     "cell_type": "code",
     "collapsed": false,
     "input": [
      "d = datetime.strptime('2014-04-28 10:13:40', '%Y-%m-%d %H:%M:%S')\n",
      "d"
     ],
     "language": "python",
     "metadata": {},
     "outputs": [
      {
       "metadata": {},
       "output_type": "pyout",
       "prompt_number": 2,
       "text": [
        "datetime.datetime(2014, 4, 28, 10, 13, 40)"
       ]
      }
     ],
     "prompt_number": 2
    },
    {
     "cell_type": "markdown",
     "metadata": {},
     "source": [
      "### datetime\u5bf9\u8c61\u8f6c\u5316\u4e3atimestamp"
     ]
    },
    {
     "cell_type": "code",
     "collapsed": false,
     "input": [
      "import calendar\n",
      "\n",
      "t = calendar.timegm(d.utctimetuple())\n",
      "print t\n",
      "\n",
      "import time\n",
      "t = time.mktime(d.timetuple())\n",
      "print t"
     ],
     "language": "python",
     "metadata": {},
     "outputs": [
      {
       "output_type": "stream",
       "stream": "stdout",
       "text": [
        "1398680020\n",
        "1398651220.0\n"
       ]
      }
     ],
     "prompt_number": 11
    },
    {
     "cell_type": "code",
     "collapsed": false,
     "input": [
      "print datetime.fromtimestamp(1398680020)"
     ],
     "language": "python",
     "metadata": {},
     "outputs": [
      {
       "output_type": "stream",
       "stream": "stdout",
       "text": [
        "2014-04-28 18:13:40\n"
       ]
      }
     ],
     "prompt_number": 16
    },
    {
     "cell_type": "code",
     "collapsed": false,
     "input": [
      "print datetime.fromtimestamp(1398651220.0)"
     ],
     "language": "python",
     "metadata": {},
     "outputs": [
      {
       "output_type": "stream",
       "stream": "stdout",
       "text": [
        "2014-04-28 10:13:40\n"
       ]
      }
     ],
     "prompt_number": 17
    },
    {
     "cell_type": "markdown",
     "metadata": {},
     "source": [
      "### timestamp\u8f6c\u5316\u4e3adatetime\u5bf9\u8c61"
     ]
    },
    {
     "cell_type": "code",
     "collapsed": false,
     "input": [
      "dt = datetime.fromtimestamp(1400688000 + 3600*24)\n",
      "print dt\n",
      "print 1400688000 + 3600*24\n",
      "\n",
      "dt = datetime.fromtimestamp(1400688000)\n",
      "print dt"
     ],
     "language": "python",
     "metadata": {},
     "outputs": [
      {
       "output_type": "stream",
       "stream": "stdout",
       "text": [
        "2014-05-23 00:00:00\n",
        "1400774400\n",
        "2014-05-22 00:00:00\n"
       ]
      }
     ],
     "prompt_number": 4
    },
    {
     "cell_type": "markdown",
     "metadata": {},
     "source": [
      "### \u83b7\u53d6\u6628\u5929\u65e5\u671f\u5bf9\u8c61"
     ]
    },
    {
     "cell_type": "code",
     "collapsed": false,
     "input": [
      "today = datetime.today()\n",
      "today"
     ],
     "language": "python",
     "metadata": {},
     "outputs": [
      {
       "metadata": {},
       "output_type": "pyout",
       "prompt_number": 5,
       "text": [
        "datetime.datetime(2014, 5, 23, 21, 17, 5, 470462)"
       ]
      }
     ],
     "prompt_number": 5
    },
    {
     "cell_type": "code",
     "collapsed": false,
     "input": [
      "ordinal = today.toordinal() - 1\n",
      "yesterday = datetime.fromordinal(ordinal)\n",
      "yesterday"
     ],
     "language": "python",
     "metadata": {},
     "outputs": [
      {
       "metadata": {},
       "output_type": "pyout",
       "prompt_number": 6,
       "text": [
        "datetime.datetime(2014, 5, 22, 0, 0)"
       ]
      }
     ],
     "prompt_number": 6
    },
    {
     "cell_type": "code",
     "collapsed": false,
     "input": [
      "calendar.timegm(yesterday.utctimetuple())"
     ],
     "language": "python",
     "metadata": {},
     "outputs": [
      {
       "metadata": {},
       "output_type": "pyout",
       "prompt_number": 7,
       "text": [
        "1400716800"
       ]
      }
     ],
     "prompt_number": 7
    },
    {
     "cell_type": "code",
     "collapsed": false,
     "input": [
      "ordinal = today.toordinal() - 2\n",
      "yesterday = datetime.fromordinal(ordinal)\n",
      "yesterday\n",
      "calendar.timegm(yesterday.utctimetuple())"
     ],
     "language": "python",
     "metadata": {},
     "outputs": [
      {
       "metadata": {},
       "output_type": "pyout",
       "prompt_number": 8,
       "text": [
        "1400630400"
       ]
      }
     ],
     "prompt_number": 8
    },
    {
     "cell_type": "markdown",
     "metadata": {},
     "source": [
      "## time.mktime vs calendar.timegm\n",
      "\n",
      "time.mktime(t)  pass local time as a input and calendar.timegm(t)'s t is UTC time. The below is from python doc.\n",
      "\n",
      "time.mktime(t) This is the inverse function of localtime(). Its argument is the struct_time or full 9-tuple (since the dst flag is needed; use -1 as the dst flag if it is unknown) which expresses the time in local time, not UTC. It returns a floating point number, for compatibility with time(). If the input value cannot be represented as a valid time, either OverflowError or ValueError will be raised (which depends on whether the invalid value is caught by Python or the underlying C libraries). The earliest date for which it can generate a time is platform-dependent.\n",
      "\n",
      " \n",
      "calendar.timegm(tuple) An unrelated but handy function that takes a time tuple such as returned by the gmtime() function in the time module, and returns the corresponding Unix timestamp value, assuming an epoch of 1970, and the POSIX encoding. In fact, time.gmtime() and timegm() are each others\u2019 inverse.\n"
     ]
    },
    {
     "cell_type": "code",
     "collapsed": false,
     "input": [
      "today = datetime.today()\n",
      "print today"
     ],
     "language": "python",
     "metadata": {},
     "outputs": [
      {
       "output_type": "stream",
       "stream": "stdout",
       "text": [
        "2014-05-23 21:21:11.179673\n"
       ]
      }
     ],
     "prompt_number": 18
    },
    {
     "cell_type": "code",
     "collapsed": false,
     "input": [
      "today = datetime(today.year, today.month, today.day)\n",
      "print today"
     ],
     "language": "python",
     "metadata": {},
     "outputs": [
      {
       "output_type": "stream",
       "stream": "stdout",
       "text": [
        "2014-05-23 00:00:00\n"
       ]
      }
     ],
     "prompt_number": 21
    },
    {
     "cell_type": "code",
     "collapsed": false,
     "input": [
      "mk = time.mktime(today.timetuple())\n",
      "gm = calendar.timegm(today.timetuple())\n",
      "print mk\n",
      "print gm\n",
      "print today.timetuple()\n",
      "print today.utctimetuple()"
     ],
     "language": "python",
     "metadata": {},
     "outputs": [
      {
       "output_type": "stream",
       "stream": "stdout",
       "text": [
        "1400774400.0\n",
        "1400803200\n",
        "time.struct_time(tm_year=2014, tm_mon=5, tm_mday=23, tm_hour=0, tm_min=0, tm_sec=0, tm_wday=4, tm_yday=143, tm_isdst=-1)\n",
        "time.struct_time(tm_year=2014, tm_mon=5, tm_mday=23, tm_hour=0, tm_min=0, tm_sec=0, tm_wday=4, tm_yday=143, tm_isdst=0)\n"
       ]
      }
     ],
     "prompt_number": 23
    },
    {
     "cell_type": "code",
     "collapsed": false,
     "input": [
      "print datetime.fromtimestamp(mk)\n",
      "print datetime.fromtimestamp(gm)\n",
      "print datetime.utcfromtimestamp(mk)\n",
      "print datetime.utcfromtimestamp(gm)"
     ],
     "language": "python",
     "metadata": {},
     "outputs": [
      {
       "output_type": "stream",
       "stream": "stdout",
       "text": [
        "2014-05-23 00:00:00\n",
        "2014-05-23 08:00:00\n",
        "2014-05-22 16:00:00\n",
        "2014-05-23 00:00:00\n"
       ]
      }
     ],
     "prompt_number": 24
    },
    {
     "cell_type": "code",
     "collapsed": false,
     "input": [],
     "language": "python",
     "metadata": {},
     "outputs": []
    }
   ],
   "metadata": {}
  }
 ]
}
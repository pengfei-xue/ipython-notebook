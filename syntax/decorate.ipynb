{
 "metadata": {
  "name": "",
  "signature": "sha256:8f31371f036049814189605ccdcd5f6c76649a6efd5ac0b5a7ecab9c5465f08e"
 },
 "nbformat": 3,
 "nbformat_minor": 0,
 "worksheets": [
  {
   "cells": [
    {
     "cell_type": "code",
     "collapsed": false,
     "input": [
      "class UploadAvatar(object):\n",
      "    def seek_to_begin(f):\n",
      "        def _wrappered(self, arg):\n",
      "            print 'before'\n",
      "            result = f(self, arg)\n",
      "            print 'after'\n",
      "            return result\n",
      "        return _wrappered\n",
      "\n",
      "    @seek_to_begin\n",
      "    def _check_file_type(self, f):\n",
      "        print 'in _check_file_type'"
     ],
     "language": "python",
     "metadata": {},
     "outputs": [],
     "prompt_number": 13
    },
    {
     "cell_type": "code",
     "collapsed": false,
     "input": [
      "u = UploadAvatar()\n",
      "u._check_file_type('ok')"
     ],
     "language": "python",
     "metadata": {},
     "outputs": [
      {
       "output_type": "stream",
       "stream": "stdout",
       "text": [
        "before\n",
        "in _check_file_type\n",
        "after\n"
       ]
      }
     ],
     "prompt_number": 14
    },
    {
     "cell_type": "code",
     "collapsed": false,
     "input": [],
     "language": "python",
     "metadata": {},
     "outputs": []
    }
   ],
   "metadata": {}
  }
 ]
}
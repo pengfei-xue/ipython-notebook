{
 "cells": [
  {
   "cell_type": "code",
   "execution_count": 28,
   "metadata": {
    "collapsed": false,
    "scrolled": true
   },
   "outputs": [
    {
     "data": {
      "text/plain": [
       "0.0"
      ]
     },
     "execution_count": 28,
     "metadata": {},
     "output_type": "execute_result"
    }
   ],
   "source": [
    "%matplotlib inline \n",
    "\n",
    "\n",
    "import random\n",
    "import math\n",
    "from collections import defaultdict\n",
    "from operator import itemgetter\n",
    "\n",
    "import pandas as pd\n",
    "import numpy as np\n",
    "\n",
    "import matplotlib\n",
    "import matplotlib.pyplot as plt\n",
    "\n",
    "# uid diaryid\n",
    "data = pd.read_table('data/user_diary.txt', sep=',', names=['uid', 'diary_id'])[:2000]\n",
    "\n",
    "\n",
    "def splitData(data, M, k, seed):\n",
    "    test = defaultdict(tuple)  # list of [uid, diary_id]\n",
    "    train = defaultdict(tuple)\n",
    "    random.seed(seed)\n",
    "    for row in data.itertuples():\n",
    "        if random.randint(0, M) == k:\n",
    "            test[row.uid] += (row.diary_id,)\n",
    "        else:\n",
    "            train[row.uid] += (row.diary_id,)\n",
    "    return train, test\n",
    "\n",
    "train, test = splitData(data, 10, 5, 2)\n",
    "\n",
    "\n",
    "def Precision(train, test, W):\n",
    "    hit = 0\n",
    "    all = 0\n",
    "    \n",
    "    for uid in train.keys():\n",
    "        tu = test[uid]\n",
    "        \n",
    "        rank = GetRecommendation(uid, train, W, 10)\n",
    "        for item, pui in rank.items():\n",
    "            if item in tu:\n",
    "                 hit += 1\n",
    "        all += len(rank)\n",
    "    return hit / (all * 1.0)\n",
    "\n",
    "\n",
    "def GetRecommendation(uid, train, W, K=50):\n",
    "    rank = defaultdict(tuple)\n",
    "    interacted_items = train[uid]\n",
    "    for v, wuv in sorted(W[uid].items(), key=itemgetter(1), reverse=True)[0:K]:\n",
    "        for i, rvi in train.items():\n",
    "            if i in interacted_items:\n",
    "                continue\n",
    "            rank[i] += rvi\n",
    "    return rank\n",
    "\n",
    "\n",
    "def UserSimilarity(train):\n",
    "    item_users = defaultdict(tuple)\n",
    "    for uid, diary_ids in train.items():\n",
    "        for diary_id in diary_ids:\n",
    "            item_users[diary_id] += (uid,)\n",
    "\n",
    "    C = defaultdict(lambda: defaultdict(int))\n",
    "    N = defaultdict(int)\n",
    "    for diary_id, uids in item_users.items():\n",
    "        for u in uids:\n",
    "            N[u] += 1\n",
    "            \n",
    "            for v in uids:\n",
    "                if u == v: continue\n",
    "                C[u][v] += 1\n",
    "\n",
    "    #calculate finial similarity matrix W\n",
    "    W = defaultdict(lambda: defaultdict(int))\n",
    "    for u, related_users in C.items():\n",
    "        for v, cuv in related_users.items():\n",
    "            W[u][v] = cuv / math.sqrt(N[u] * N[v])\n",
    "\n",
    "    return W\n",
    "\n",
    "\n",
    "W = UserSimilarity(train)\n",
    "Precision(train, test, W)"
   ]
  },
  {
   "cell_type": "code",
   "execution_count": null,
   "metadata": {
    "collapsed": true
   },
   "outputs": [],
   "source": []
  }
 ],
 "metadata": {
  "kernelspec": {
   "display_name": "Python 2",
   "language": "python",
   "name": "python2"
  },
  "language_info": {
   "codemirror_mode": {
    "name": "ipython",
    "version": 2
   },
   "file_extension": ".py",
   "mimetype": "text/x-python",
   "name": "python",
   "nbconvert_exporter": "python",
   "pygments_lexer": "ipython2",
   "version": "2.7.12"
  }
 },
 "nbformat": 4,
 "nbformat_minor": 0
}
